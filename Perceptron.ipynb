{
  "nbformat": 4,
  "nbformat_minor": 0,
  "metadata": {
    "colab": {
      "provenance": [],
      "authorship_tag": "ABX9TyMClgeAJ8PD/6zsyrXfrPwU",
      "include_colab_link": true
    },
    "kernelspec": {
      "name": "python3",
      "display_name": "Python 3"
    },
    "language_info": {
      "name": "python"
    }
  },
  "cells": [
    {
      "cell_type": "markdown",
      "metadata": {
        "id": "view-in-github",
        "colab_type": "text"
      },
      "source": [
        "<a href=\"https://colab.research.google.com/github/LaithY0/ANN/blob/main/Perceptron.ipynb\" target=\"_parent\"><img src=\"https://colab.research.google.com/assets/colab-badge.svg\" alt=\"Open In Colab\"/></a>"
      ]
    },
    {
      "cell_type": "code",
      "execution_count": 4,
      "metadata": {
        "colab": {
          "base_uri": "https://localhost:8080/",
          "height": 762
        },
        "id": "uNuTRa4qF-xT",
        "outputId": "1885458a-91ae-4ae2-9613-8bab23640a14"
      },
      "outputs": [
        {
          "output_type": "stream",
          "name": "stdout",
          "text": [
            "Choose an activation function (1: sigmoid, 2: tanh): 2\n",
            "\n",
            "Epoch 0, Error: [1.53820868]\n",
            "Epoch 10, Error: [0.16370409]\n",
            "Epoch 20, Error: [0.08021073]\n",
            "Epoch 30, Error: [0.05294008]\n",
            "Epoch 40, Error: [0.03947049]\n",
            "Epoch 50, Error: [0.03145231]\n",
            "Epoch 60, Error: [0.02613642]\n",
            "Epoch 70, Error: [0.02235499]\n",
            "Epoch 80, Error: [0.01952798]\n",
            "Epoch 90, Error: [0.01733483]\n",
            "\n",
            "Final weights: [0.78662053 2.42580648 1.11308267]\n",
            "Final bias: [1.53697644]\n"
          ]
        },
        {
          "output_type": "display_data",
          "data": {
            "text/plain": [
              "<Figure size 640x480 with 1 Axes>"
            ],
            "image/png": "[encoded data removed]"
          },
          "metadata": {}
        },
        {
          "output_type": "stream",
          "name": "stdout",
          "text": [
            "Prediction after training: [0.984416]\n"
          ]
        }
      ],
      "source": [
        "import numpy as np\n",
        "import matplotlib.pyplot as plt\n",
        "\n",
        "# Sigmoid function\n",
        "def sigmoid(x):\n",
        "    return 1 / (1 + np.exp(-x))\n",
        "\n",
        "# Tanh function\n",
        "def tanh(x):\n",
        "    return np.tanh(x)\n",
        "\n",
        "# Define the Perceptron class\n",
        "class Perceptron:\n",
        "    def __init__(self, input_size, learning_rate=0.1):\n",
        "        self.weights = np.random.randn(input_size)  # Initialize weights randomly\n",
        "        self.bias = np.random.randn()  # Initialize bias randomly\n",
        "        self.learning_rate = learning_rate\n",
        "\n",
        "    def forward(self, inputs, activation_function):\n",
        "        # Linear combination of inputs and weights\n",
        "        linear_output = np.dot(inputs, self.weights) + self.bias\n",
        "        # Apply activation function\n",
        "        if activation_function == 'sigmoid':\n",
        "            return sigmoid(linear_output)\n",
        "        elif activation_function == 'tanh':\n",
        "            return tanh(linear_output)\n",
        "        else:\n",
        "            raise ValueError(\"Unsupported activation function\")\n",
        "\n",
        "    def train(self, inputs, target, activation_function, epochs=100):\n",
        "        error_history = []  # Store error history for plotting\n",
        "        for epoch in range(epochs):\n",
        "            # Perform forward pass\n",
        "            output = self.forward(inputs, activation_function)\n",
        "            # Compute error (difference between target and output)\n",
        "            error = target - output\n",
        "            # Store error for plotting\n",
        "            error_history.append(error)\n",
        "            # Perform a simple gradient descent update\n",
        "            self.weights += self.learning_rate * error * inputs\n",
        "            self.bias += self.learning_rate * error\n",
        "            if epoch % 10 == 0:\n",
        "                print(f\"Epoch {epoch}, Error: {error}\")\n",
        "        return error_history\n",
        "\n",
        "# User input for activation function\n",
        "activation_choice = input(\"Choose an activation function (1: sigmoid, 2: tanh): \").strip()\n",
        "\n",
        "# Convert the choice to the correct string for the function\n",
        "activation_functions = {\n",
        "    '1': 'sigmoid',\n",
        "    '2': 'tanh'\n",
        "}\n",
        "\n",
        "activation_function = activation_functions.get(activation_choice, 'sigmoid')\n",
        "\n",
        "# Inputs (3 features)\n",
        "inputs = np.array([1, 0.5, -1])\n",
        "# Target output\n",
        "target = np.array([1])  # Binary target output\n",
        "\n",
        "# Create a perceptron with 3 inputs\n",
        "perceptron = Perceptron(input_size=3)\n",
        "print(\"\")\n",
        "# Train the perceptron and get error history\n",
        "error_history = perceptron.train(inputs, target, activation_function)\n",
        "\n",
        "# Print the values of the weights and bias after training\n",
        "print(\"\")\n",
        "print(f\"Final weights: {perceptron.weights}\")\n",
        "print(f\"Final bias: {perceptron.bias}\")\n",
        "\n",
        "# Plot the convergence of error with iterations\n",
        "plt.plot(error_history)\n",
        "plt.xlabel('Epochs')\n",
        "plt.ylabel('Error')\n",
        "plt.title(f'Convergence of Error (Activation: {activation_function})')\n",
        "plt.grid(True)\n",
        "plt.show()\n",
        "\n",
        "# Make a prediction after training\n",
        "prediction = perceptron.forward(inputs, activation_function)\n",
        "print(f\"Prediction after training: {prediction}\")\n"
      ]
    },
    {
      "cell_type": "code",
      "source": [],
      "metadata": {
        "id": "5_biTbQeGAw4"
      },
      "execution_count": null,
      "outputs": []
    },
    {
      "cell_type": "code",
      "source": [],
      "metadata": {
        "id": "Dcw1scq-GAzX"
      },
      "execution_count": null,
      "outputs": []
    },
    {
      "cell_type": "code",
      "source": [],
      "metadata": {
        "id": "lJzawAKfGA5W"
      },
      "execution_count": null,
      "outputs": []
    },
    {
      "cell_type": "code",
      "source": [],
      "metadata": {
        "id": "9SbTDeyZGBCH"
      },
      "execution_count": null,
      "outputs": []
    },
    {
      "cell_type": "code",
      "source": [],
      "metadata": {
        "id": "O1dtgw91GBEX"
      },
      "execution_count": null,
      "outputs": []
    },
    {
      "cell_type": "code",
      "source": [],
      "metadata": {
        "id": "0c08F1hkGBGv"
      },
      "execution_count": null,
      "outputs": []
    },
    {
      "cell_type": "code",
      "source": [],
      "metadata": {
        "id": "oGojHDbiGBIn"
      },
      "execution_count": null,
      "outputs": []
    }
  ]
}