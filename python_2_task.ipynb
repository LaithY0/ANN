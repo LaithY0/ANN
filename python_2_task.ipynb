{
  "nbformat": 4,
  "nbformat_minor": 0,
  "metadata": {
    "colab": {
      "provenance": [],
      "authorship_tag": "ABX9TyNLUHA0+FygxRKHsul87Fgw",
      "include_colab_link": true
    },
    "kernelspec": {
      "name": "python3",
      "display_name": "Python 3"
    },
    "language_info": {
      "name": "python"
    }
  },
  "cells": [
    {
      "cell_type": "markdown",
      "metadata": {
        "id": "view-in-github",
        "colab_type": "text"
      },
      "source": [
        "<a href=\"https://colab.research.google.com/github/LaithY0/ANN/blob/main/python_2_task.ipynb\" target=\"_parent\"><img src=\"https://colab.research.google.com/assets/colab-badge.svg\" alt=\"Open In Colab\"/></a>"
      ]
    },
    {
      "cell_type": "code",
      "execution_count": 1,
      "metadata": {
        "colab": {
          "base_uri": "https://localhost:8080/"
        },
        "id": "hKiCGsGGLDoD",
        "outputId": "745b7098-9450-494e-d890-971f8bdff814"
      },
      "outputs": [
        {
          "output_type": "stream",
          "name": "stdout",
          "text": [
            "Enter your age:24\n",
            "you are already an adult\n"
          ]
        }
      ],
      "source": [
        "age=int(input(\"Enter your age:\"))\n",
        "\n",
        "if age<18:\n",
        " print('you are minor')\n",
        "elif age ==18:\n",
        " print('you are just adult now')\n",
        "else:\n",
        " print('you are already an adult')"
      ]
    },
    {
      "cell_type": "code",
      "source": [
        "score= eval(input(\"enter your score:\"))\n",
        "\n",
        "if score >=90:\n",
        "  grade = \"A\"\n",
        "  print(\"your grade is \",grade)\n",
        "elif score >=80:\n",
        "  grade = \"B\"\n",
        "  print(\"your grade is \",grade)\n",
        "elif score >=70:\n",
        "  grade = \"C\"\n",
        "  print(\"your grade is \",grade)\n",
        "elif score >=60:\n",
        "  grade = \"D\"\n",
        "  print(\"your grade is \",grade)\n",
        "else:\n",
        "  grade = \"F\"\n",
        "  print(\"your grade is \",grade)"
      ],
      "metadata": {
        "colab": {
          "base_uri": "https://localhost:8080/"
        },
        "id": "O3Of9c3hLVTS",
        "outputId": "0505ef57-99c0-48cd-fa82-f42586034594"
      },
      "execution_count": 2,
      "outputs": [
        {
          "output_type": "stream",
          "name": "stdout",
          "text": [
            "enter your score:81\n",
            "your grade is  B\n"
          ]
        }
      ]
    },
    {
      "cell_type": "code",
      "source": [
        "fruits= [\"apple\",\"banana\",\"cherry\"]\n",
        "\n",
        "for index in fruits:\n",
        " print(\"I like\", index)"
      ],
      "metadata": {
        "colab": {
          "base_uri": "https://localhost:8080/"
        },
        "id": "Ah0GD2WGLVP6",
        "outputId": "4406b403-18ca-49da-efe9-01278c27b218"
      },
      "execution_count": 3,
      "outputs": [
        {
          "output_type": "stream",
          "name": "stdout",
          "text": [
            "I like apple\n",
            "I like banana\n",
            "I like cherry\n"
          ]
        }
      ]
    },
    {
      "cell_type": "code",
      "source": [
        "numbers = [5,10,15,20,25]\n",
        "sum=0\n",
        "for index in numbers:\n",
        " sum+=index\n",
        "print(\"the sum is\", sum)"
      ],
      "metadata": {
        "colab": {
          "base_uri": "https://localhost:8080/"
        },
        "id": "wsZ9Z4D5LVNV",
        "outputId": "a8ea54f2-bd5c-4c22-d9f1-96002b8d0727"
      },
      "execution_count": 4,
      "outputs": [
        {
          "output_type": "stream",
          "name": "stdout",
          "text": [
            "the sum is 75\n"
          ]
        }
      ]
    },
    {
      "cell_type": "code",
      "source": [
        "count=1\n",
        "while count<=5:\n",
        "  print(\"the count is\",count)\n",
        "  count +=1"
      ],
      "metadata": {
        "colab": {
          "base_uri": "https://localhost:8080/"
        },
        "id": "noztA39NLVLE",
        "outputId": "fdbc85a4-9c56-4f12-f0ec-9b3a1020dd21"
      },
      "execution_count": 5,
      "outputs": [
        {
          "output_type": "stream",
          "name": "stdout",
          "text": [
            "the count is 1\n",
            "the count is 2\n",
            "the count is 3\n",
            "the count is 4\n",
            "the count is 5\n"
          ]
        }
      ]
    },
    {
      "cell_type": "code",
      "source": [
        "while True:\n",
        "  print(\"Menu:\")\n",
        "  print(\"1.option 1\")\n",
        "  print(\"2.option 2\")\n",
        "  print(\"3.option 3\")\n",
        "  print(\"4. Quit 4\")\n",
        "  choice = int(input(\"Enter your choice:\"))\n",
        "\n",
        "  if choice ==1:\n",
        "    print(\"you selected option 1\")\n",
        "  elif choice ==2:\n",
        "    print(\"you selected option 2\")\n",
        "  elif choice ==3:\n",
        "    print(\"you selected option 3\")\n",
        "  elif choice ==4:\n",
        "    print(\"Goodbye\")\n",
        "    break\n",
        "  else:\n",
        "    print(\"invalid choice.please try again.\")"
      ],
      "metadata": {
        "colab": {
          "base_uri": "https://localhost:8080/"
        },
        "id": "IgCryafKLVI3",
        "outputId": "6334bf86-e6e6-42ad-c86b-3576cb5c4e25"
      },
      "execution_count": 7,
      "outputs": [
        {
          "output_type": "stream",
          "name": "stdout",
          "text": [
            "Menu:\n",
            "1.option 1\n",
            "2.option 2\n",
            "3.option 3\n",
            "4. Quit 4\n",
            "Enter your choice:2\n",
            "you selected option 2\n",
            "Menu:\n",
            "1.option 1\n",
            "2.option 2\n",
            "3.option 3\n",
            "4. Quit 4\n",
            "Enter your choice:4\n",
            "Goodbye\n"
          ]
        }
      ]
    },
    {
      "cell_type": "code",
      "source": [
        "import time\n",
        "countdown = 5\n",
        "print(\"counter started \")\n",
        "while countdown >0:\n",
        "  print(countdown)\n",
        "  time.sleep(1)\n",
        "  countdown -=1\n",
        "print(\"countdown finished\")"
      ],
      "metadata": {
        "colab": {
          "base_uri": "https://localhost:8080/"
        },
        "id": "_ZpXAL7bLVF8",
        "outputId": "8b1339f3-33ee-4ce8-c08a-7e1c4608f5d6"
      },
      "execution_count": 8,
      "outputs": [
        {
          "output_type": "stream",
          "name": "stdout",
          "text": [
            "counter started \n",
            "5\n",
            "4\n",
            "3\n",
            "2\n",
            "1\n",
            "countdown finished\n"
          ]
        }
      ]
    },
    {
      "cell_type": "code",
      "source": [
        "colors = [\"red\",\"green\",\"blue\"]\n",
        "print(\"colors\",colors)\n",
        "colors.append(\"yellow\")\n",
        "print(\"colors\",colors)\n"
      ],
      "metadata": {
        "colab": {
          "base_uri": "https://localhost:8080/"
        },
        "id": "oZvuTthtLVDt",
        "outputId": "64d6b456-a6c8-404e-e839-cd370fc8d37b"
      },
      "execution_count": 9,
      "outputs": [
        {
          "output_type": "stream",
          "name": "stdout",
          "text": [
            "colors ['red', 'green', 'blue']\n",
            "colors ['red', 'green', 'blue', 'yellow']\n"
          ]
        }
      ]
    },
    {
      "cell_type": "code",
      "source": [
        "todo_list =[]\n",
        "\n",
        "print(\"welcome to do list \")\n",
        "\n",
        "while True:\n",
        "  print(\"Options\")\n",
        "  print(\"1.Add task\")\n",
        "  print(\"2.View tasks\")\n",
        "  print(\"3.Quit\")\n",
        "\n",
        "  choice = input(\"Enter your choice:\")\n",
        "\n",
        "  if choice == \"1\":\n",
        "    task = input(\"Enter a task:\")\n",
        "    todo_list.append(task)\n",
        "    print(\"tasl added:\")\n",
        "  elif choice == \"2\":\n",
        "    print(\"tasks:\")\n",
        "    for task in todo_list:\n",
        "      print(\"- \",task)\n",
        "  elif choice == \"3\":\n",
        "    print(\"Goodbye\")\n",
        "    break\n",
        "  else:\n",
        "    print(\"invalid choice.please try again.\")\n"
      ],
      "metadata": {
        "colab": {
          "base_uri": "https://localhost:8080/"
        },
        "id": "qXdVPK_mMMxr",
        "outputId": "df6f52e1-6a0b-4b6f-8c76-72df2117d545"
      },
      "execution_count": 10,
      "outputs": [
        {
          "output_type": "stream",
          "name": "stdout",
          "text": [
            "welcome to do list \n",
            "Options\n",
            "1.Add task\n",
            "2.View tasks\n",
            "3.Quit\n",
            "Enter your choice:1\n",
            "Enter a task:Go to the AUT\n",
            "tasl added:\n",
            "Options\n",
            "1.Add task\n",
            "2.View tasks\n",
            "3.Quit\n",
            "Enter your choice:3\n",
            "Goodbye\n"
          ]
        }
      ]
    },
    {
      "cell_type": "code",
      "source": [
        "person_info=(\"Alice\",23)\n",
        "print(\"person information:\")\n",
        "print(\"name:\",person_info[0])\n",
        "print(\"age:\",person_info[1])"
      ],
      "metadata": {
        "colab": {
          "base_uri": "https://localhost:8080/"
        },
        "id": "hH1nPx3BMMuA",
        "outputId": "955f09d8-6d27-43ae-da15-2d9e69ab0d84"
      },
      "execution_count": 11,
      "outputs": [
        {
          "output_type": "stream",
          "name": "stdout",
          "text": [
            "person information:\n",
            "name: Alice\n",
            "age: 23\n"
          ]
        }
      ]
    },
    {
      "cell_type": "code",
      "source": [
        "student={\n",
        "    \"name\":\"Alice\",\n",
        "    \"age\":23,\n",
        "    \"major\":\"Computer Science\"\n",
        "\n",
        "}\n",
        "student[grade]=\"A\"\n",
        "name=student[\"name\"]\n",
        "print(\"student\",student)\n",
        "print(\"student\",name)"
      ],
      "metadata": {
        "colab": {
          "base_uri": "https://localhost:8080/"
        },
        "id": "z0sk6uUhMMsL",
        "outputId": "bad0d618-6d17-4536-97de-db5ef2a72ea2"
      },
      "execution_count": 12,
      "outputs": [
        {
          "output_type": "stream",
          "name": "stdout",
          "text": [
            "student {'name': 'Alice', 'age': 23, 'major': 'Computer Science', 'B': 'A'}\n",
            "student Alice\n"
          ]
        }
      ]
    },
    {
      "cell_type": "code",
      "source": [
        "\n",
        "\n",
        "student1 = {\n",
        "    \"name\":\"Alice\",\n",
        "    \"age\":23,\n",
        "    \"major\":\"Computer Science\",\n",
        "    \"grade\":\"A\"\n",
        "}\n",
        "\n",
        "student2  = {\n",
        "    \"name\":\"Bob\",\n",
        "    \"age\":22,\n",
        "    \"major\":\"Mathematics\",\n",
        "    \"grade\": \"B\"\n",
        "    }\n",
        "students =[student1,student2]\n",
        "\n",
        "for student in students:\n",
        "  print(\"student name:\",student[\"name\"])\n",
        "  print(\"student age:\",student[\"age\"])\n",
        "  print(\"student major:\",student[\"major\"])\n",
        "  print(\"student grade:\",student[\"grade\"])\n",
        "  print()"
      ],
      "metadata": {
        "colab": {
          "base_uri": "https://localhost:8080/"
        },
        "id": "bUR_tQNvMMoz",
        "outputId": "3bdcf926-699e-41e6-882a-d32733cccf51"
      },
      "execution_count": 13,
      "outputs": [
        {
          "output_type": "stream",
          "name": "stdout",
          "text": [
            "student name: Alice\n",
            "student age: 23\n",
            "student major: Computer Science\n",
            "student grade: A\n",
            "\n",
            "student name: Bob\n",
            "student age: 22\n",
            "student major: Mathematics\n",
            "student grade: B\n",
            "\n"
          ]
        }
      ]
    }
  ]
}